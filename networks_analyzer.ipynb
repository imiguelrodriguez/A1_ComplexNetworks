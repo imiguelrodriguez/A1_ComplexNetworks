{
 "cells": [
  {
   "metadata": {},
   "cell_type": "markdown",
   "source": [
    "# A1 - Complex Networks\n",
    "### Authors: Ignacio Miguel Rodríguez and Daniel Arias Cámara"
   ],
   "id": "4ea3c0f48d939fa2"
  },
  {
   "metadata": {},
   "cell_type": "markdown",
   "source": [
    "## Part 1. Structural characterization of networks\n",
    "\n",
    "You can find four different networks labelled as net1, net2, net3 and net4 in the activityA1.zip\n",
    "file.  To characterize their macroscopic structure, the students should analyze (at least) the following network descriptors:\n",
    "\n",
    "* Number of nodes\n",
    "* Number of edges\n",
    "* Minimum, maximum, and average degree\n",
    "* Average clustering coefficient (average of the clustering coefficient of each node)\n",
    "* Assortativity\n",
    "* Average path length (average distance between all pairs of nodes)\n",
    "* Diameter (maximum distance between nodes in the network)\n",
    "\n",
    "Apart from these indicators, the degree distribution provides crucial information to understand the macroscopic structure of networks. For this reason, the students should obtain the degree distribution of each network and choose its most suitable representation (histogram in linear scale or in histogram in log-log scale with logarithmic binning).\n",
    "\n",
    "The microscopic structure of the network is instead characterized by analyzing different centralities for the nodes of the network. The students should list the 5 most central nodes according to different metrics (betweenness, degree, eigenvector) and comment the results. Are these centrality indicators providing the same information on the relevance of the nodes for the network?\n",
    "\n",
    "PS. Visualization of these networks using networkx is discouraged due to their large size."
   ],
   "id": "64e4da2bd3831312"
  },
  {
   "metadata": {
    "ExecuteTime": {
     "end_time": "2025-02-26T08:36:36.190716Z",
     "start_time": "2025-02-26T08:36:35.897699Z"
    }
   },
   "cell_type": "code",
   "source": "import networkx as nx ## Network tools",
   "id": "54ed0da084402ac3",
   "outputs": [],
   "execution_count": 1
  },
  {
   "metadata": {
    "ExecuteTime": {
     "end_time": "2025-02-26T08:47:17.154519Z",
     "start_time": "2025-02-26T08:47:16.812391Z"
    }
   },
   "cell_type": "code",
   "source": "G=nx.read_edgelist('networks/net1.net')",
   "id": "3715ffb6b4e9844a",
   "outputs": [],
   "execution_count": 16
  },
  {
   "metadata": {
    "ExecuteTime": {
     "end_time": "2025-02-26T08:47:19.428887Z",
     "start_time": "2025-02-26T08:47:19.422646Z"
    }
   },
   "cell_type": "code",
   "source": [
    "print('The number of nodes in the network is:',G.number_of_nodes())\n",
    "print('The number of edges in the network is:',G.number_of_edges())"
   ],
   "id": "5d85f3a283e94d0b",
   "outputs": [
    {
     "name": "stdout",
     "output_type": "stream",
     "text": [
      "The number of nodes in the network is: 5000\n",
      "The number of edges in the network is: 25000\n"
     ]
    }
   ],
   "execution_count": 17
  },
  {
   "metadata": {
    "ExecuteTime": {
     "end_time": "2025-02-26T08:47:21.311864Z",
     "start_time": "2025-02-26T08:47:21.305868Z"
    }
   },
   "cell_type": "code",
   "source": [
    "# Compute degree for each node\n",
    "degrees = [deg for _, deg in G.degree()]\n",
    "\n",
    "# Get min, max, and average degree\n",
    "min_degree = min(degrees)\n",
    "max_degree = max(degrees)\n",
    "avg_degree = sum(degrees) / len(degrees)\n",
    "\n",
    "print(f\"Min Degree: {min_degree}\")\n",
    "print(f\"Max Degree: {max_degree}\")\n",
    "print(f\"Avg Degree: {avg_degree:.2f}\")"
   ],
   "id": "303883b151101351",
   "outputs": [
    {
     "name": "stdout",
     "output_type": "stream",
     "text": [
      "Min Degree: 6\n",
      "Max Degree: 15\n",
      "Avg Degree: 10.00\n"
     ]
    }
   ],
   "execution_count": 18
  },
  {
   "metadata": {
    "ExecuteTime": {
     "end_time": "2025-02-26T08:40:29.191231Z",
     "start_time": "2025-02-26T08:40:28.916017Z"
    }
   },
   "cell_type": "code",
   "source": [
    "# Compute average clustering coefficient\n",
    "avg_clustering = nx.average_clustering(G)\n",
    "\n",
    "print(f\"Average Clustering Coefficient: {avg_clustering:.4f}\")"
   ],
   "id": "54c899084ae112c8",
   "outputs": [
    {
     "name": "stdout",
     "output_type": "stream",
     "text": [
      "Average Clustering Coefficient: 0.4188\n"
     ]
    }
   ],
   "execution_count": 5
  },
  {
   "metadata": {
    "ExecuteTime": {
     "end_time": "2025-02-26T08:41:59.063169Z",
     "start_time": "2025-02-26T08:41:58.453021Z"
    }
   },
   "cell_type": "code",
   "source": [
    "assort = nx.degree_assortativity_coefficient(G)\n",
    "print(f\"Degree Assortativity Coefficient: {assort:.4f}\")"
   ],
   "id": "99ac6f3e566e0afe",
   "outputs": [
    {
     "name": "stdout",
     "output_type": "stream",
     "text": [
      "Degree Assortativity Coefficient: -0.0219\n"
     ]
    }
   ],
   "execution_count": 8
  },
  {
   "metadata": {
    "ExecuteTime": {
     "end_time": "2025-02-26T08:45:40.282051Z",
     "start_time": "2025-02-26T08:44:52.010575Z"
    }
   },
   "cell_type": "code",
   "source": [
    "if nx.is_connected(G):\n",
    "    avg_path_length = nx.average_shortest_path_length(G)\n",
    "    print(f\"Average Path Length: {avg_path_length:.4f}\")\n",
    "    diameter = nx.diameter(G)\n",
    "    print(f\"Diameter: {diameter}\")"
   ],
   "id": "23da33c06515cd6a",
   "outputs": [
    {
     "name": "stdout",
     "output_type": "stream",
     "text": [
      "Average Path Length: 5.1433\n",
      "Diameter: 8\n"
     ]
    }
   ],
   "execution_count": 12
  },
  {
   "metadata": {},
   "cell_type": "markdown",
   "source": [
    "## Part 2. Models\n",
    "Based on the descriptors of the network and its degree distribution, the students should figure out the model used to generate the network. There are four possibilities: the ER model, the WS model with an intermediate rewiring probability, the BA model or the CM assuming a degree distribution which follows a power-law with $\\gamma$<2.5.\n",
    "\n",
    "To round off the activity, the students should analyze the network net5. This network is generated by a model which has not been explained in our lectures. The students should visualize the network (setting the positions of the nodes from the file ‘positions.txt’) and comment the most prominent features of the network. Is the network connected? Is it scale-free? Is the largest connected component a small-world network? From the visualization of the network, the students should propose an algorithm to generate the network. **Hint**: The algorithm starts by distributing the nodes randomly across space.\n",
    "\n",
    "The delivery should include a single .zip file named ‘Groupxxx_SURNAME1_SURNAME2_A1.zip’ containing:\n",
    "\n",
    "* A brief PDF report discussing the results obtained in the two parts of the activity.\n",
    "* A Jupyter notebook with the code needed to reproduce the results.\n",
    "PS: Networks are encoded in the pajek format (.net). The students should use nx.read_pajek to read each network."
   ],
   "id": "ef5f77081387b508"
  }
 ],
 "metadata": {
  "kernelspec": {
   "display_name": "Python 3",
   "language": "python",
   "name": "python3"
  },
  "language_info": {
   "codemirror_mode": {
    "name": "ipython",
    "version": 2
   },
   "file_extension": ".py",
   "mimetype": "text/x-python",
   "name": "python",
   "nbconvert_exporter": "python",
   "pygments_lexer": "ipython2",
   "version": "2.7.6"
  }
 },
 "nbformat": 4,
 "nbformat_minor": 5
}
